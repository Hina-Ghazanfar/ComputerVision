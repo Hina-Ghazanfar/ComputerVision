{
 "cells": [
  {
   "cell_type": "code",
   "execution_count": 7,
   "id": "b44281be-080e-438d-bf9e-9b0a69973fe7",
   "metadata": {},
   "outputs": [
    {
     "name": "stdout",
     "output_type": "stream",
     "text": [
      "['n02795169', 'n02769748', 'n02917067', 'n01629819', 'n02058221', 'n02793495', 'class_name.txt', 'n02814533', 'n02837789', 'n01770393', 'n01910747', 'n02124075', 'n01774750', 'n02480495', 'n03085013', 'n01443537', 'n03089624', 'n02909870', 'n02977058', 'n02950826', '.DS_Store', 'n02279972', 'n02403003', 'n01742172', 'n01882714', 'n02669723', 'n02226429', 'test', 'n02002724', 'n01768244', 'n02509815', 'n02321529', 'n02099601', 'n02948072', 'n02236044', 'n03126707', 'n02074367', 'n01950731', 'n02268443', 'n02085620', 'n02823428', 'n02113799', 'n01784675', 'n03100240', 'n02788148', 'n02814860', 'n03014705', 'n02481823', 'n01944390', 'n03042490', 'n02190166', 'n02906734', 'n02699494', 'n01855672', 'n02364673', 'n02883205', 'n02815834', 'n02165456', 'n02802426', 'n01641577', 'n01698640', 'n02125311', 'n03179701', 'n02841315', 'n02843684', 'n02437312', 'n02099712', 'n03250847', 'n02094433', 'n02129165', 'n02056570', 'n02410509', 'n03026506', 'n01644900', 'n02666196', 'n02486410', 'n02808440', 'n02233338', 'n02791270', 'train', 'n01917289', 'n02106662', 'n02927161', '.ipynb_checkpoints', 'n02395406', 'n02231487', 'n02123394', 'n02423022', 'n02206856', 'n02415577', 'n01945685', 'n02892201', 'n03160309', 'n02281406', 'n02999410', 'n02504458', 'n02132136', 'n01983481', 'n01774384', 'n03201208', 'n01984695', 'n02963159', 'n02123045', 'n02988304', 'n02730930']\n"
     ]
    }
   ],
   "source": [
    "import os\n",
    "\n",
    "tiny_image = 'TinyImageNet100'\n",
    "print(os.listdir(tiny_image))"
   ]
  },
  {
   "cell_type": "code",
   "execution_count": 31,
   "id": "c1906c78-ef88-4d10-bd40-5e9a62cbb18a",
   "metadata": {},
   "outputs": [
    {
     "name": "stdout",
     "output_type": "stream",
     "text": [
      "Training data prepared at: TinyImageNet100/train\n",
      "Testing data prepared at: TinyImageNet100/test\n"
     ]
    }
   ],
   "source": [
    "import os\n",
    "import random\n",
    "from shutil import copy2\n",
    "\n",
    "def prepare_tinyimagenet_dataset(base_path, num_classes=15):\n",
    "    \"\"\"\n",
    "    Prepare training and testing data from the TinyImageNet100 dataset.\n",
    "\n",
    "    Parameters:\n",
    "    - base_path: Path to the TinyImageNet100 dataset.\n",
    "    - num_classes: Number of classes to select (default is 15).\n",
    "\n",
    "    Returns:\n",
    "    - A tuple containing the paths to the training and testing datasets.\n",
    "    \"\"\"\n",
    "    # Ensure the number of classes is at least 15\n",
    "    assert num_classes >= 15, \"Number of classes must be at least 15.\"\n",
    "\n",
    "    # Read class labels from class_name.txt\n",
    "    class_labels_path = os.path.join(base_path, 'class_name.txt')\n",
    "    if not os.path.isfile(class_labels_path):\n",
    "        raise FileNotFoundError(f\"Class labels file not found: {class_labels_path}\")\n",
    "\n",
    "    with open(class_labels_path, 'r') as f:\n",
    "        class_labels = [line.strip().split('\\t')[0] for line in f.readlines()]\n",
    "\n",
    "    # Get all class directories\n",
    "    class_dirs = sorted([d for d in os.listdir(base_path) if os.path.isdir(os.path.join(base_path, d))])\n",
    "\n",
    "    # Ensure class directories match those in class_name.txt\n",
    "    valid_class_dirs = [cls for cls in class_labels if cls in class_dirs]\n",
    "\n",
    "    # Randomly select the specified number of classes\n",
    "    selected_classes = random.sample(valid_class_dirs, num_classes)\n",
    "\n",
    "    # Paths for training and testing datasets\n",
    "    train_path = os.path.join(base_path, 'train')\n",
    "    test_path = os.path.join(base_path, 'test')\n",
    "    os.makedirs(train_path, exist_ok=True)\n",
    "    os.makedirs(test_path, exist_ok=True)\n",
    "\n",
    "    for cls in selected_classes:\n",
    "        cls_image_path = os.path.join(base_path, cls, 'images')\n",
    "        images = sorted([img for img in os.listdir(cls_image_path) if img.lower().endswith(('.png', '.jpg', '.jpeg'))])\n",
    "\n",
    "        # Prepare training and testing directories for each class\n",
    "        train_cls_path = os.path.join(train_path, cls)\n",
    "        test_cls_path = os.path.join(test_path, cls)\n",
    "        os.makedirs(train_cls_path, exist_ok=True)\n",
    "        os.makedirs(test_cls_path, exist_ok=True)\n",
    "\n",
    "        # Copy the first 400 images to training and the next 100 to testing\n",
    "        for i, img in enumerate(images[:500]):\n",
    "            src = os.path.join(cls_image_path, img)\n",
    "            if i < 400:\n",
    "                dest = os.path.join(train_cls_path, img)\n",
    "            else:\n",
    "                dest = os.path.join(test_cls_path, img)\n",
    "            copy2(src, dest)\n",
    "\n",
    "    return train_path, test_path\n",
    "\n",
    "# Example usage\n",
    "base_path = 'TinyImageNet100'  # Replace with actual path\n",
    "train_path, test_path = prepare_tinyimagenet_dataset(base_path)\n",
    "print(\"Training data prepared at:\", train_path)\n",
    "print(\"Testing data prepared at:\", test_path)\n"
   ]
  },
  {
   "cell_type": "code",
   "execution_count": 33,
   "id": "7f0e3e8b-5720-40c9-8058-f84b0b5c834a",
   "metadata": {},
   "outputs": [],
   "source": [
    "def extract_sift_features(image_path):\n",
    "    \"\"\"Extract SIFT features from an image.\"\"\"\n",
    "    img = cv2.imread(image_path, cv2.IMREAD_GRAYSCALE)\n",
    "    sift = cv2.SIFT_create()\n",
    "    keypoints, descriptors = sift.detectAndCompute(img, None)\n",
    "    return keypoints, descriptors"
   ]
  },
  {
   "cell_type": "code",
   "execution_count": 39,
   "id": "05627501-d8f6-4e71-b272-881378c9897f",
   "metadata": {},
   "outputs": [
    {
     "name": "stderr",
     "output_type": "stream",
     "text": [
      "[ WARN:0@0.009] global loadsave.cpp:241 findDecoder imread_('TinyImageNet100/train/class_name/image.jpg'): can't open/read file: check file path/integrity\n"
     ]
    },
    {
     "ename": "error",
     "evalue": "OpenCV(4.10.0) /Users/xperience/GHA-Actions-OpenCV/_work/opencv-python/opencv-python/opencv/modules/features2d/src/sift.dispatch.cpp:512: error: (-5:Bad argument) image is empty or has incorrect depth (!=CV_8U) in function 'detectAndCompute'\n",
     "output_type": "error",
     "traceback": [
      "\u001b[0;31m---------------------------------------------------------------------------\u001b[0m",
      "\u001b[0;31merror\u001b[0m                                     Traceback (most recent call last)",
      "Cell \u001b[0;32mIn[39], line 4\u001b[0m\n\u001b[1;32m      2\u001b[0m \u001b[38;5;66;03m#Extract SIFT features for the first image in the train set\u001b[39;00m\n\u001b[1;32m      3\u001b[0m train_image_path \u001b[38;5;241m=\u001b[39m os\u001b[38;5;241m.\u001b[39mpath\u001b[38;5;241m.\u001b[39mjoin(train_path, \u001b[38;5;124m\"\u001b[39m\u001b[38;5;124mclass_name\u001b[39m\u001b[38;5;124m\"\u001b[39m, \u001b[38;5;124m\"\u001b[39m\u001b[38;5;124mimage.jpg\u001b[39m\u001b[38;5;124m\"\u001b[39m)  \u001b[38;5;66;03m# Replace with actual image path\u001b[39;00m\n\u001b[0;32m----> 4\u001b[0m keypoints, descriptors \u001b[38;5;241m=\u001b[39m extract_sift_features(train_image_path)\n\u001b[1;32m      5\u001b[0m \u001b[38;5;28mprint\u001b[39m(\u001b[38;5;124mf\u001b[39m\u001b[38;5;124m\"\u001b[39m\u001b[38;5;124mExtracted \u001b[39m\u001b[38;5;132;01m{\u001b[39;00m\u001b[38;5;28mlen\u001b[39m(keypoints)\u001b[38;5;132;01m}\u001b[39;00m\u001b[38;5;124m keypoints from the image.\u001b[39m\u001b[38;5;124m\"\u001b[39m)\n",
      "Cell \u001b[0;32mIn[33], line 5\u001b[0m, in \u001b[0;36mextract_sift_features\u001b[0;34m(image_path)\u001b[0m\n\u001b[1;32m      3\u001b[0m img \u001b[38;5;241m=\u001b[39m cv2\u001b[38;5;241m.\u001b[39mimread(image_path, cv2\u001b[38;5;241m.\u001b[39mIMREAD_GRAYSCALE)\n\u001b[1;32m      4\u001b[0m sift \u001b[38;5;241m=\u001b[39m cv2\u001b[38;5;241m.\u001b[39mSIFT_create()\n\u001b[0;32m----> 5\u001b[0m keypoints, descriptors \u001b[38;5;241m=\u001b[39m sift\u001b[38;5;241m.\u001b[39mdetectAndCompute(img, \u001b[38;5;28;01mNone\u001b[39;00m)\n\u001b[1;32m      6\u001b[0m \u001b[38;5;28;01mreturn\u001b[39;00m keypoints, descriptors\n",
      "\u001b[0;31merror\u001b[0m: OpenCV(4.10.0) /Users/xperience/GHA-Actions-OpenCV/_work/opencv-python/opencv-python/opencv/modules/features2d/src/sift.dispatch.cpp:512: error: (-5:Bad argument) image is empty or has incorrect depth (!=CV_8U) in function 'detectAndCompute'\n"
     ]
    }
   ],
   "source": [
    "import cv2 \n",
    "#Extract SIFT features for the first image in the train set\n",
    "train_image_path = os.path.join(train_path, \"class_name\", \"image.jpg\")  # Replace with actual image path\n",
    "keypoints, descriptors = extract_sift_features(train_image_path)\n",
    "print(f\"Extracted {len(keypoints)} keypoints from the image.\")"
   ]
  },
  {
   "cell_type": "code",
   "execution_count": null,
   "id": "06232613-169f-4e73-bb80-db76bab67be3",
   "metadata": {},
   "outputs": [],
   "source": []
  }
 ],
 "metadata": {
  "kernelspec": {
   "display_name": "Python 3 (ipykernel)",
   "language": "python",
   "name": "python3"
  },
  "language_info": {
   "codemirror_mode": {
    "name": "ipython",
    "version": 3
   },
   "file_extension": ".py",
   "mimetype": "text/x-python",
   "name": "python",
   "nbconvert_exporter": "python",
   "pygments_lexer": "ipython3",
   "version": "3.12.7"
  }
 },
 "nbformat": 4,
 "nbformat_minor": 5
}
